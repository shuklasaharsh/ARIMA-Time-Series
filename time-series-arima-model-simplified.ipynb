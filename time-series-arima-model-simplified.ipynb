{
 "cells": [
  {
   "cell_type": "markdown",
   "metadata": {
    "papermill": {
     "duration": 0.038492,
     "end_time": "2021-05-28T07:04:30.618021",
     "exception": false,
     "start_time": "2021-05-28T07:04:30.579529",
     "status": "completed"
    },
    "tags": []
   },
   "source": [
    "# TIME SERIES FORECASTING"
   ]
  },
  {
   "cell_type": "markdown",
   "metadata": {
    "papermill": {
     "duration": 0.035138,
     "end_time": "2021-05-28T07:04:30.689640",
     "exception": false,
     "start_time": "2021-05-28T07:04:30.654502",
     "status": "completed"
    },
    "tags": []
   },
   "source": [
    "***Hey so first things first, Thankyou for opening my kernel. Disclaimer : I am still learning but I have tried to jot down whatever I have understood in this kernel. Ps - Tag along till the end, you'll surely enjoy my commentary if not the code AND please upvote if you like this!!!***"
   ]
  },
  {
   "cell_type": "markdown",
   "metadata": {
    "papermill": {
     "duration": 0.036453,
     "end_time": "2021-05-28T07:04:30.761580",
     "exception": false,
     "start_time": "2021-05-28T07:04:30.725127",
     "status": "completed"
    },
    "tags": []
   },
   "source": [
    " I will take you through time series data its basically a collection of data points over a time interval."
   ]
  },
  {
   "cell_type": "markdown",
   "metadata": {
    "papermill": {
     "duration": 0.035296,
     "end_time": "2021-05-28T07:04:30.832925",
     "exception": false,
     "start_time": "2021-05-28T07:04:30.797629",
     "status": "completed"
    },
    "tags": []
   },
   "source": [
    "Steps : \n",
    "1. Loading and Indexing the Dataset\n",
    "2. Checking if the data is stationary or not ( It should have constant Mean - Variance - Std)\n",
    "3. Converting data into stationary \n",
    "4. Creating the ARIMA model"
   ]
  },
  {
   "cell_type": "code",
   "execution_count": 1,
   "metadata": {
    "_cell_guid": "b1076dfc-b9ad-4769-8c92-a6c4dae69d19",
    "_uuid": "8f2839f25d086af736a60e9eeb907d3b93b6e0e5",
    "execution": {
     "iopub.execute_input": "2021-05-28T07:04:30.908149Z",
     "iopub.status.busy": "2021-05-28T07:04:30.907387Z",
     "iopub.status.idle": "2021-05-28T07:04:32.019546Z",
     "shell.execute_reply": "2021-05-28T07:04:32.018598Z",
     "shell.execute_reply.started": "2021-05-28T07:02:33.896474Z"
    },
    "papermill": {
     "duration": 1.151347,
     "end_time": "2021-05-28T07:04:32.019740",
     "exception": false,
     "start_time": "2021-05-28T07:04:30.868393",
     "status": "completed"
    },
    "tags": []
   },
   "outputs": [
    {
     "name": "stdout",
     "output_type": "stream",
     "text": [
      "/kaggle/input/air-passengers/AirPassengers.csv\n"
     ]
    }
   ],
   "source": [
    "# This Python 3 environment comes with many helpful analytics libraries installed\n",
    "# It is defined by the kaggle/python Docker image: https://github.com/kaggle/docker-python\n",
    "# For example, here's several helpful packages to load\n",
    "\n",
    "import numpy as np # linear algebra\n",
    "import pandas as pd # data processing, CSV file I/O (e.g. pd.read_csv)\n",
    "import matplotlib.pyplot as plt\n",
    "import seaborn as sns\n",
    "\n",
    "# Input data files are available in the read-only \"../input/\" directory\n",
    "# For example, running this (by clicking run or pressing Shift+Enter) will list all files under the input directory\n",
    "\n",
    "import os\n",
    "for dirname, _, filenames in os.walk('/kaggle/input'):\n",
    "    for filename in filenames:\n",
    "        print(os.path.join(dirname, filename))\n",
    "\n",
    "# You can write up to 5GB to the current directory (/kaggle/working/) that gets preserved as output when you create a version using \"Save & Run All\" \n",
    "# You can also write temporary files to /kaggle/temp/, but they won't be saved outside of the current session"
   ]
  },
  {
   "cell_type": "markdown",
   "metadata": {
    "papermill": {
     "duration": 0.037228,
     "end_time": "2021-05-28T07:04:32.093378",
     "exception": false,
     "start_time": "2021-05-28T07:04:32.056150",
     "status": "completed"
    },
    "tags": []
   },
   "source": [
    "Loading and Reading the Dataset"
   ]
  },
  {
   "cell_type": "code",
   "execution_count": 2,
   "metadata": {
    "_cell_guid": "79c7e3d0-c299-4dcb-8224-4455121ee9b0",
    "_uuid": "d629ff2d2480ee46fbb7e2d37f6b5fab8052498a",
    "execution": {
     "iopub.execute_input": "2021-05-28T07:04:32.171293Z",
     "iopub.status.busy": "2021-05-28T07:04:32.170571Z",
     "iopub.status.idle": "2021-05-28T07:04:32.183435Z",
     "shell.execute_reply": "2021-05-28T07:04:32.182831Z",
     "shell.execute_reply.started": "2021-05-28T07:02:34.928224Z"
    },
    "papermill": {
     "duration": 0.054829,
     "end_time": "2021-05-28T07:04:32.183568",
     "exception": false,
     "start_time": "2021-05-28T07:04:32.128739",
     "status": "completed"
    },
    "tags": []
   },
   "outputs": [],
   "source": [
    "df = pd.read_csv('../input/air-passengers/AirPassengers.csv')"
   ]
  },
  {
   "cell_type": "code",
   "execution_count": 3,
   "metadata": {
    "execution": {
     "iopub.execute_input": "2021-05-28T07:04:32.264138Z",
     "iopub.status.busy": "2021-05-28T07:04:32.263468Z",
     "iopub.status.idle": "2021-05-28T07:04:32.280516Z",
     "shell.execute_reply": "2021-05-28T07:04:32.279965Z",
     "shell.execute_reply.started": "2021-05-28T07:02:34.945582Z"
    },
    "papermill": {
     "duration": 0.055748,
     "end_time": "2021-05-28T07:04:32.280628",
     "exception": false,
     "start_time": "2021-05-28T07:04:32.224880",
     "status": "completed"
    },
    "tags": []
   },
   "outputs": [
    {
     "data": {
      "text/html": [
       "<div>\n",
       "<style scoped>\n",
       "    .dataframe tbody tr th:only-of-type {\n",
       "        vertical-align: middle;\n",
       "    }\n",
       "\n",
       "    .dataframe tbody tr th {\n",
       "        vertical-align: top;\n",
       "    }\n",
       "\n",
       "    .dataframe thead th {\n",
       "        text-align: right;\n",
       "    }\n",
       "</style>\n",
       "<table border=\"1\" class=\"dataframe\">\n",
       "  <thead>\n",
       "    <tr style=\"text-align: right;\">\n",
       "      <th></th>\n",
       "      <th>Month</th>\n",
       "      <th>#Passengers</th>\n",
       "    </tr>\n",
       "  </thead>\n",
       "  <tbody>\n",
       "    <tr>\n",
       "      <th>0</th>\n",
       "      <td>1949-01</td>\n",
       "      <td>112</td>\n",
       "    </tr>\n",
       "    <tr>\n",
       "      <th>1</th>\n",
       "      <td>1949-02</td>\n",
       "      <td>118</td>\n",
       "    </tr>\n",
       "    <tr>\n",
       "      <th>2</th>\n",
       "      <td>1949-03</td>\n",
       "      <td>132</td>\n",
       "    </tr>\n",
       "    <tr>\n",
       "      <th>3</th>\n",
       "      <td>1949-04</td>\n",
       "      <td>129</td>\n",
       "    </tr>\n",
       "    <tr>\n",
       "      <th>4</th>\n",
       "      <td>1949-05</td>\n",
       "      <td>121</td>\n",
       "    </tr>\n",
       "  </tbody>\n",
       "</table>\n",
       "</div>"
      ],
      "text/plain": [
       "     Month  #Passengers\n",
       "0  1949-01          112\n",
       "1  1949-02          118\n",
       "2  1949-03          132\n",
       "3  1949-04          129\n",
       "4  1949-05          121"
      ]
     },
     "execution_count": 3,
     "metadata": {},
     "output_type": "execute_result"
    }
   ],
   "source": [
    "df.head()"
   ]
  },
  {
   "cell_type": "markdown",
   "metadata": {
    "papermill": {
     "duration": 0.035638,
     "end_time": "2021-05-28T07:04:32.352182",
     "exception": false,
     "start_time": "2021-05-28T07:04:32.316544",
     "status": "completed"
    },
    "tags": []
   },
   "source": [
    "The dataset is time series having columns Months and No. of Passengers. Now we will play with the basic pandas function to know more about the dataset."
   ]
  },
  {
   "cell_type": "code",
   "execution_count": 4,
   "metadata": {
    "execution": {
     "iopub.execute_input": "2021-05-28T07:04:32.429717Z",
     "iopub.status.busy": "2021-05-28T07:04:32.429025Z",
     "iopub.status.idle": "2021-05-28T07:04:32.431797Z",
     "shell.execute_reply": "2021-05-28T07:04:32.432327Z",
     "shell.execute_reply.started": "2021-05-28T07:02:34.963759Z"
    },
    "papermill": {
     "duration": 0.044266,
     "end_time": "2021-05-28T07:04:32.432500",
     "exception": false,
     "start_time": "2021-05-28T07:04:32.388234",
     "status": "completed"
    },
    "tags": []
   },
   "outputs": [
    {
     "data": {
      "text/plain": [
       "(144, 2)"
      ]
     },
     "execution_count": 4,
     "metadata": {},
     "output_type": "execute_result"
    }
   ],
   "source": [
    "df.shape"
   ]
  },
  {
   "cell_type": "markdown",
   "metadata": {
    "papermill": {
     "duration": 0.037521,
     "end_time": "2021-05-28T07:04:32.507878",
     "exception": false,
     "start_time": "2021-05-28T07:04:32.470357",
     "status": "completed"
    },
    "tags": []
   },
   "source": [
    "HURRAY!! No missing values is just the best thing which happened to me today"
   ]
  },
  {
   "cell_type": "code",
   "execution_count": 5,
   "metadata": {
    "execution": {
     "iopub.execute_input": "2021-05-28T07:04:32.587999Z",
     "iopub.status.busy": "2021-05-28T07:04:32.587342Z",
     "iopub.status.idle": "2021-05-28T07:04:32.595272Z",
     "shell.execute_reply": "2021-05-28T07:04:32.594599Z",
     "shell.execute_reply.started": "2021-05-28T07:02:34.975423Z"
    },
    "papermill": {
     "duration": 0.048923,
     "end_time": "2021-05-28T07:04:32.595397",
     "exception": false,
     "start_time": "2021-05-28T07:04:32.546474",
     "status": "completed"
    },
    "tags": []
   },
   "outputs": [
    {
     "data": {
      "text/plain": [
       "Month          0\n",
       "#Passengers    0\n",
       "dtype: int64"
      ]
     },
     "execution_count": 5,
     "metadata": {},
     "output_type": "execute_result"
    }
   ],
   "source": [
    "df.isna().sum()"
   ]
  },
  {
   "cell_type": "code",
   "execution_count": 6,
   "metadata": {
    "execution": {
     "iopub.execute_input": "2021-05-28T07:04:32.680927Z",
     "iopub.status.busy": "2021-05-28T07:04:32.680143Z",
     "iopub.status.idle": "2021-05-28T07:04:32.685238Z",
     "shell.execute_reply": "2021-05-28T07:04:32.684520Z",
     "shell.execute_reply.started": "2021-05-28T07:02:34.989302Z"
    },
    "papermill": {
     "duration": 0.053125,
     "end_time": "2021-05-28T07:04:32.685360",
     "exception": false,
     "start_time": "2021-05-28T07:04:32.632235",
     "status": "completed"
    },
    "tags": []
   },
   "outputs": [
    {
     "name": "stdout",
     "output_type": "stream",
     "text": [
      "<class 'pandas.core.frame.DataFrame'>\n",
      "RangeIndex: 144 entries, 0 to 143\n",
      "Data columns (total 2 columns):\n",
      " #   Column       Non-Null Count  Dtype \n",
      "---  ------       --------------  ----- \n",
      " 0   Month        144 non-null    object\n",
      " 1   #Passengers  144 non-null    int64 \n",
      "dtypes: int64(1), object(1)\n",
      "memory usage: 2.4+ KB\n"
     ]
    }
   ],
   "source": [
    "df.info()"
   ]
  },
  {
   "cell_type": "code",
   "execution_count": 7,
   "metadata": {
    "execution": {
     "iopub.execute_input": "2021-05-28T07:04:32.765108Z",
     "iopub.status.busy": "2021-05-28T07:04:32.764313Z",
     "iopub.status.idle": "2021-05-28T07:04:32.766179Z",
     "shell.execute_reply": "2021-05-28T07:04:32.766708Z",
     "shell.execute_reply.started": "2021-05-28T07:02:35.007458Z"
    },
    "papermill": {
     "duration": 0.044069,
     "end_time": "2021-05-28T07:04:32.766873",
     "exception": false,
     "start_time": "2021-05-28T07:04:32.722804",
     "status": "completed"
    },
    "tags": []
   },
   "outputs": [],
   "source": [
    "from datetime import datetime"
   ]
  },
  {
   "cell_type": "markdown",
   "metadata": {
    "papermill": {
     "duration": 0.037058,
     "end_time": "2021-05-28T07:04:32.842449",
     "exception": false,
     "start_time": "2021-05-28T07:04:32.805391",
     "status": "completed"
    },
    "tags": []
   },
   "source": [
    "Converting date string to datetime data type"
   ]
  },
  {
   "cell_type": "code",
   "execution_count": 8,
   "metadata": {
    "execution": {
     "iopub.execute_input": "2021-05-28T07:04:32.928598Z",
     "iopub.status.busy": "2021-05-28T07:04:32.927896Z",
     "iopub.status.idle": "2021-05-28T07:04:32.930073Z",
     "shell.execute_reply": "2021-05-28T07:04:32.930537Z",
     "shell.execute_reply.started": "2021-05-28T07:02:35.017194Z"
    },
    "papermill": {
     "duration": 0.050541,
     "end_time": "2021-05-28T07:04:32.930695",
     "exception": false,
     "start_time": "2021-05-28T07:04:32.880154",
     "status": "completed"
    },
    "tags": []
   },
   "outputs": [],
   "source": [
    "df['Month']=pd.to_datetime(df['Month'],infer_datetime_format=True)\n"
   ]
  },
  {
   "cell_type": "markdown",
   "metadata": {
    "papermill": {
     "duration": 0.037263,
     "end_time": "2021-05-28T07:04:33.006468",
     "exception": false,
     "start_time": "2021-05-28T07:04:32.969205",
     "status": "completed"
    },
    "tags": []
   },
   "source": [
    "As you can see, I have changed the data type now"
   ]
  },
  {
   "cell_type": "code",
   "execution_count": 9,
   "metadata": {
    "execution": {
     "iopub.execute_input": "2021-05-28T07:04:33.084832Z",
     "iopub.status.busy": "2021-05-28T07:04:33.084158Z",
     "iopub.status.idle": "2021-05-28T07:04:33.093361Z",
     "shell.execute_reply": "2021-05-28T07:04:33.092763Z",
     "shell.execute_reply.started": "2021-05-28T07:02:35.035588Z"
    },
    "papermill": {
     "duration": 0.048964,
     "end_time": "2021-05-28T07:04:33.093480",
     "exception": false,
     "start_time": "2021-05-28T07:04:33.044516",
     "status": "completed"
    },
    "tags": []
   },
   "outputs": [
    {
     "name": "stdout",
     "output_type": "stream",
     "text": [
      "<class 'pandas.core.frame.DataFrame'>\n",
      "RangeIndex: 144 entries, 0 to 143\n",
      "Data columns (total 2 columns):\n",
      " #   Column       Non-Null Count  Dtype         \n",
      "---  ------       --------------  -----         \n",
      " 0   Month        144 non-null    datetime64[ns]\n",
      " 1   #Passengers  144 non-null    int64         \n",
      "dtypes: datetime64[ns](1), int64(1)\n",
      "memory usage: 2.4 KB\n"
     ]
    }
   ],
   "source": [
    "df.info()"
   ]
  },
  {
   "cell_type": "markdown",
   "metadata": {
    "papermill": {
     "duration": 0.037122,
     "end_time": "2021-05-28T07:04:33.168315",
     "exception": false,
     "start_time": "2021-05-28T07:04:33.131193",
     "status": "completed"
    },
    "tags": []
   },
   "source": [
    "Setting the index as date so that we can access and traverse values easily, do a substring search and brownie points to the fact that it can help us to visualise easily."
   ]
  },
  {
   "cell_type": "code",
   "execution_count": 10,
   "metadata": {
    "execution": {
     "iopub.execute_input": "2021-05-28T07:04:33.248489Z",
     "iopub.status.busy": "2021-05-28T07:04:33.247817Z",
     "iopub.status.idle": "2021-05-28T07:04:33.252661Z",
     "shell.execute_reply": "2021-05-28T07:04:33.253230Z",
     "shell.execute_reply.started": "2021-05-28T07:02:35.053134Z"
    },
    "papermill": {
     "duration": 0.04601,
     "end_time": "2021-05-28T07:04:33.253383",
     "exception": false,
     "start_time": "2021-05-28T07:04:33.207373",
     "status": "completed"
    },
    "tags": []
   },
   "outputs": [],
   "source": [
    "index = df.set_index('Month',inplace=False)"
   ]
  },
  {
   "cell_type": "code",
   "execution_count": 11,
   "metadata": {
    "execution": {
     "iopub.execute_input": "2021-05-28T07:04:33.331682Z",
     "iopub.status.busy": "2021-05-28T07:04:33.331048Z",
     "iopub.status.idle": "2021-05-28T07:04:33.340717Z",
     "shell.execute_reply": "2021-05-28T07:04:33.340092Z",
     "shell.execute_reply.started": "2021-05-28T07:02:35.062347Z"
    },
    "papermill": {
     "duration": 0.049722,
     "end_time": "2021-05-28T07:04:33.340832",
     "exception": false,
     "start_time": "2021-05-28T07:04:33.291110",
     "status": "completed"
    },
    "tags": []
   },
   "outputs": [
    {
     "data": {
      "text/html": [
       "<div>\n",
       "<style scoped>\n",
       "    .dataframe tbody tr th:only-of-type {\n",
       "        vertical-align: middle;\n",
       "    }\n",
       "\n",
       "    .dataframe tbody tr th {\n",
       "        vertical-align: top;\n",
       "    }\n",
       "\n",
       "    .dataframe thead th {\n",
       "        text-align: right;\n",
       "    }\n",
       "</style>\n",
       "<table border=\"1\" class=\"dataframe\">\n",
       "  <thead>\n",
       "    <tr style=\"text-align: right;\">\n",
       "      <th></th>\n",
       "      <th>#Passengers</th>\n",
       "    </tr>\n",
       "    <tr>\n",
       "      <th>Month</th>\n",
       "      <th></th>\n",
       "    </tr>\n",
       "  </thead>\n",
       "  <tbody>\n",
       "    <tr>\n",
       "      <th>1949-01-01</th>\n",
       "      <td>112</td>\n",
       "    </tr>\n",
       "    <tr>\n",
       "      <th>1949-02-01</th>\n",
       "      <td>118</td>\n",
       "    </tr>\n",
       "    <tr>\n",
       "      <th>1949-03-01</th>\n",
       "      <td>132</td>\n",
       "    </tr>\n",
       "    <tr>\n",
       "      <th>1949-04-01</th>\n",
       "      <td>129</td>\n",
       "    </tr>\n",
       "    <tr>\n",
       "      <th>1949-05-01</th>\n",
       "      <td>121</td>\n",
       "    </tr>\n",
       "  </tbody>\n",
       "</table>\n",
       "</div>"
      ],
      "text/plain": [
       "            #Passengers\n",
       "Month                  \n",
       "1949-01-01          112\n",
       "1949-02-01          118\n",
       "1949-03-01          132\n",
       "1949-04-01          129\n",
       "1949-05-01          121"
      ]
     },
     "execution_count": 11,
     "metadata": {},
     "output_type": "execute_result"
    }
   ],
   "source": [
    "index.head()"
   ]
  },
  {
   "cell_type": "markdown",
   "metadata": {
    "papermill": {
     "duration": 0.0377,
     "end_time": "2021-05-28T07:04:33.416419",
     "exception": false,
     "start_time": "2021-05-28T07:04:33.378719",
     "status": "completed"
    },
    "tags": []
   },
   "source": [
    "Visualising the Passengers"
   ]
  },
  {
   "cell_type": "code",
   "execution_count": 12,
   "metadata": {
    "execution": {
     "iopub.execute_input": "2021-05-28T07:04:33.496881Z",
     "iopub.status.busy": "2021-05-28T07:04:33.496212Z",
     "iopub.status.idle": "2021-05-28T07:04:33.768205Z",
     "shell.execute_reply": "2021-05-28T07:04:33.767617Z",
     "shell.execute_reply.started": "2021-05-28T07:02:35.081048Z"
    },
    "papermill": {
     "duration": 0.313938,
     "end_time": "2021-05-28T07:04:33.768331",
     "exception": false,
     "start_time": "2021-05-28T07:04:33.454393",
     "status": "completed"
    },
    "tags": []
   },
   "outputs": [
    {
     "data": {
      "text/plain": [
       "<matplotlib.axes._subplots.AxesSubplot at 0x7f37e9b62810>"
      ]
     },
     "execution_count": 12,
     "metadata": {},
     "output_type": "execute_result"
    },
    {
     "data": {
      "image/png": "[encoded data removed]",
      "text/plain": [
       "<Figure size 432x288 with 1 Axes>"
      ]
     },
     "metadata": {
      "needs_background": "light"
     },
     "output_type": "display_data"
    }
   ],
   "source": [
    "index.plot()"
   ]
  },
  {
   "cell_type": "markdown",
   "metadata": {
    "papermill": {
     "duration": 0.038842,
     "end_time": "2021-05-28T07:04:33.847403",
     "exception": false,
     "start_time": "2021-05-28T07:04:33.808561",
     "status": "completed"
    },
    "tags": []
   },
   "source": [
    "Typing \"#Passengers\" seems really annoying so I'll just rename it, Hehe."
   ]
  },
  {
   "cell_type": "code",
   "execution_count": 13,
   "metadata": {
    "execution": {
     "iopub.execute_input": "2021-05-28T07:04:33.932124Z",
     "iopub.status.busy": "2021-05-28T07:04:33.931440Z",
     "iopub.status.idle": "2021-05-28T07:04:33.934688Z",
     "shell.execute_reply": "2021-05-28T07:04:33.933991Z",
     "shell.execute_reply.started": "2021-05-28T07:02:35.329554Z"
    },
    "papermill": {
     "duration": 0.048181,
     "end_time": "2021-05-28T07:04:33.934808",
     "exception": false,
     "start_time": "2021-05-28T07:04:33.886627",
     "status": "completed"
    },
    "tags": []
   },
   "outputs": [],
   "source": [
    "index.rename(columns={'#Passengers':'Passengers'},inplace=True)"
   ]
  },
  {
   "cell_type": "markdown",
   "metadata": {
    "papermill": {
     "duration": 0.04014,
     "end_time": "2021-05-28T07:04:34.014029",
     "exception": false,
     "start_time": "2021-05-28T07:04:33.973889",
     "status": "completed"
    },
    "tags": []
   },
   "source": [
    "# Checking if the data is stationary"
   ]
  },
  {
   "cell_type": "markdown",
   "metadata": {
    "papermill": {
     "duration": 0.039421,
     "end_time": "2021-05-28T07:04:34.093173",
     "exception": false,
     "start_time": "2021-05-28T07:04:34.053752",
     "status": "completed"
    },
    "tags": []
   },
   "source": [
    "So basically you can adopt any of these ways\n",
    "-> plot the rooling mean or rolling std to check if the change in mean is constant or not \n",
    "-> ADCF Test\n",
    "-> KPSS Test\n",
    "\n",
    "For a better explanation and your clarity, I will skim you through each of them.."
   ]
  },
  {
   "cell_type": "code",
   "execution_count": 14,
   "metadata": {
    "execution": {
     "iopub.execute_input": "2021-05-28T07:04:34.183001Z",
     "iopub.status.busy": "2021-05-28T07:04:34.181881Z",
     "iopub.status.idle": "2021-05-28T07:04:34.186925Z",
     "shell.execute_reply": "2021-05-28T07:04:34.186131Z",
     "shell.execute_reply.started": "2021-05-28T07:02:35.336892Z"
    },
    "papermill": {
     "duration": 0.054255,
     "end_time": "2021-05-28T07:04:34.187122",
     "exception": false,
     "start_time": "2021-05-28T07:04:34.132867",
     "status": "completed"
    },
    "tags": []
   },
   "outputs": [],
   "source": [
    "simple_ma = index['Passengers'].rolling(window=12).mean()\n",
    "simple_std = index['Passengers'].rolling(window=12).std()"
   ]
  },
  {
   "cell_type": "code",
   "execution_count": 15,
   "metadata": {
    "execution": {
     "iopub.execute_input": "2021-05-28T07:04:34.309212Z",
     "iopub.status.busy": "2021-05-28T07:04:34.307885Z",
     "iopub.status.idle": "2021-05-28T07:04:34.458411Z",
     "shell.execute_reply": "2021-05-28T07:04:34.459018Z",
     "shell.execute_reply.started": "2021-05-28T07:02:35.355240Z"
    },
    "papermill": {
     "duration": 0.219146,
     "end_time": "2021-05-28T07:04:34.459177",
     "exception": false,
     "start_time": "2021-05-28T07:04:34.240031",
     "status": "completed"
    },
    "tags": []
   },
   "outputs": [
    {
     "data": {
      "text/plain": [
       "[<matplotlib.lines.Line2D at 0x7f37e9913250>]"
      ]
     },
     "execution_count": 15,
     "metadata": {},
     "output_type": "execute_result"
    },
    {
     "data": {
      "image/png": "[encoded data removed]",
      "text/plain": [
       "<Figure size 432x288 with 1 Axes>"
      ]
     },
     "metadata": {
      "needs_background": "light"
     },
     "output_type": "display_data"
    }
   ],
   "source": [
    "plt.title('Data vs Mean vs Std')\n",
    "plt.plot(index,color='yellow')\n",
    "plt.plot(simple_ma, color='blue')\n",
    "plt.plot(simple_std,color='red')"
   ]
  },
  {
   "cell_type": "markdown",
   "metadata": {
    "papermill": {
     "duration": 0.045021,
     "end_time": "2021-05-28T07:04:34.549820",
     "exception": false,
     "start_time": "2021-05-28T07:04:34.504799",
     "status": "completed"
    },
    "tags": []
   },
   "source": [
    "Trend in the dataset can evidently be seen"
   ]
  },
  {
   "cell_type": "markdown",
   "metadata": {
    "papermill": {
     "duration": 0.045155,
     "end_time": "2021-05-28T07:04:34.640325",
     "exception": false,
     "start_time": "2021-05-28T07:04:34.595170",
     "status": "completed"
    },
    "tags": []
   },
   "source": [
    "Conducting the ADCF ie Augmented Dickey Fuller Test. Having the Null Hypothesis to be Time Series is Non Stationary"
   ]
  },
  {
   "cell_type": "code",
   "execution_count": 16,
   "metadata": {
    "execution": {
     "iopub.execute_input": "2021-05-28T07:04:34.735311Z",
     "iopub.status.busy": "2021-05-28T07:04:34.734214Z",
     "iopub.status.idle": "2021-05-28T07:04:34.952613Z",
     "shell.execute_reply": "2021-05-28T07:04:34.951990Z",
     "shell.execute_reply.started": "2021-05-28T07:02:35.508302Z"
    },
    "papermill": {
     "duration": 0.266937,
     "end_time": "2021-05-28T07:04:34.952727",
     "exception": false,
     "start_time": "2021-05-28T07:04:34.685790",
     "status": "completed"
    },
    "tags": []
   },
   "outputs": [],
   "source": [
    "from statsmodels.tsa.stattools import adfuller"
   ]
  },
  {
   "cell_type": "code",
   "execution_count": 17,
   "metadata": {
    "execution": {
     "iopub.execute_input": "2021-05-28T07:04:35.041928Z",
     "iopub.status.busy": "2021-05-28T07:04:35.041263Z",
     "iopub.status.idle": "2021-05-28T07:04:35.107395Z",
     "shell.execute_reply": "2021-05-28T07:04:35.108131Z",
     "shell.execute_reply.started": "2021-05-28T07:02:35.710163Z"
    },
    "papermill": {
     "duration": 0.114254,
     "end_time": "2021-05-28T07:04:35.108307",
     "exception": false,
     "start_time": "2021-05-28T07:04:34.994053",
     "status": "completed"
    },
    "tags": []
   },
   "outputs": [
    {
     "data": {
      "text/plain": [
       "(0.8153688792060468,\n",
       " 0.991880243437641,\n",
       " 13,\n",
       " 130,\n",
       " {'1%': -3.4816817173418295,\n",
       "  '5%': -2.8840418343195267,\n",
       "  '10%': -2.578770059171598},\n",
       " 996.692930839019)"
      ]
     },
     "execution_count": 17,
     "metadata": {},
     "output_type": "execute_result"
    }
   ],
   "source": [
    "df_test = adfuller(index['Passengers'],autolag='AIC')\n",
    "df_test"
   ]
  },
  {
   "cell_type": "markdown",
   "metadata": {
    "papermill": {
     "duration": 0.040985,
     "end_time": "2021-05-28T07:04:35.195129",
     "exception": false,
     "start_time": "2021-05-28T07:04:35.154144",
     "status": "completed"
    },
    "tags": []
   },
   "source": [
    "Output shows the follwoing : Test Statistic 0.81 p-value 0.99 #Lags Used 13 No. of Observation Used 130 followed by Critical Values at various percentages.\n",
    "\n",
    "**For Data to be stationary p value should be < 0.05 and critical values should be close to Test Statistics. Therefore, ADCF test concludes that data is NOT Stationary**"
   ]
  },
  {
   "cell_type": "markdown",
   "metadata": {
    "papermill": {
     "duration": 0.041174,
     "end_time": "2021-05-28T07:04:35.277646",
     "exception": false,
     "start_time": "2021-05-28T07:04:35.236472",
     "status": "completed"
    },
    "tags": []
   },
   "source": [
    "Still y'all have a doubt whether Data is stationary or not? Don't worry. Just for your validation, I will conduct another test! That being the KPSS Test"
   ]
  },
  {
   "cell_type": "code",
   "execution_count": 18,
   "metadata": {
    "execution": {
     "iopub.execute_input": "2021-05-28T07:04:35.365162Z",
     "iopub.status.busy": "2021-05-28T07:04:35.364134Z",
     "iopub.status.idle": "2021-05-28T07:04:35.368580Z",
     "shell.execute_reply": "2021-05-28T07:04:35.369203Z",
     "shell.execute_reply.started": "2021-05-28T07:02:35.770438Z"
    },
    "papermill": {
     "duration": 0.049541,
     "end_time": "2021-05-28T07:04:35.369360",
     "exception": false,
     "start_time": "2021-05-28T07:04:35.319819",
     "status": "completed"
    },
    "tags": []
   },
   "outputs": [],
   "source": [
    "from statsmodels.tsa.stattools import kpss"
   ]
  },
  {
   "cell_type": "code",
   "execution_count": 19,
   "metadata": {
    "execution": {
     "iopub.execute_input": "2021-05-28T07:04:35.455636Z",
     "iopub.status.busy": "2021-05-28T07:04:35.454558Z",
     "iopub.status.idle": "2021-05-28T07:04:35.472272Z",
     "shell.execute_reply": "2021-05-28T07:04:35.471692Z",
     "shell.execute_reply.started": "2021-05-28T07:02:35.775653Z"
    },
    "papermill": {
     "duration": 0.062115,
     "end_time": "2021-05-28T07:04:35.472405",
     "exception": false,
     "start_time": "2021-05-28T07:04:35.410290",
     "status": "completed"
    },
    "tags": []
   },
   "outputs": [
    {
     "name": "stderr",
     "output_type": "stream",
     "text": [
      "/opt/conda/lib/python3.7/site-packages/statsmodels/tsa/stattools.py:1661: FutureWarning: The behavior of using lags=None will change in the next release. Currently lags=None is the same as lags='legacy', and so a sample-size lag length is used. After the next release, the default will change to be the same as lags='auto' which uses an automatic lag length selection method. To silence this warning, either use 'auto' or 'legacy'\n",
      "  warn(msg, FutureWarning)\n"
     ]
    },
    {
     "data": {
      "text/plain": [
       "(0.16273657405822856,\n",
       " 0.0360528549514762,\n",
       " 14,\n",
       " {'10%': 0.119, '5%': 0.146, '2.5%': 0.176, '1%': 0.216})"
      ]
     },
     "execution_count": 19,
     "metadata": {},
     "output_type": "execute_result"
    }
   ],
   "source": [
    "kpss_test = kpss(index['Passengers'],'ct')\n",
    "kpss_test"
   ]
  },
  {
   "cell_type": "markdown",
   "metadata": {
    "papermill": {
     "duration": 0.041232,
     "end_time": "2021-05-28T07:04:35.555934",
     "exception": false,
     "start_time": "2021-05-28T07:04:35.514702",
     "status": "completed"
    },
    "tags": []
   },
   "source": [
    "Output shows the follwoing : Test Statistic 0.16 p-value 0.03 #Lags Used 14 followed by Critical Values at various percentages.\n",
    "\n",
    "For Data to not be stationary p value should be < 0.05 and Null Hypothesis should be rejected. Therefore, KPSS test also concludes that data is NOT Stationary\n",
    "\n"
   ]
  },
  {
   "cell_type": "markdown",
   "metadata": {
    "papermill": {
     "duration": 0.041357,
     "end_time": "2021-05-28T07:04:35.639212",
     "exception": false,
     "start_time": "2021-05-28T07:04:35.597855",
     "status": "completed"
    },
    "tags": []
   },
   "source": [
    "# Transforming Data to Achieve Stationarity"
   ]
  },
  {
   "cell_type": "code",
   "execution_count": 20,
   "metadata": {
    "execution": {
     "iopub.execute_input": "2021-05-28T07:04:35.732861Z",
     "iopub.status.busy": "2021-05-28T07:04:35.731662Z",
     "iopub.status.idle": "2021-05-28T07:04:35.735116Z",
     "shell.execute_reply": "2021-05-28T07:04:35.734483Z",
     "shell.execute_reply.started": "2021-05-28T07:02:35.972530Z"
    },
    "papermill": {
     "duration": 0.054076,
     "end_time": "2021-05-28T07:04:35.735242",
     "exception": false,
     "start_time": "2021-05-28T07:04:35.681166",
     "status": "completed"
    },
    "tags": []
   },
   "outputs": [],
   "source": [
    "index_log = np.log(index)\n",
    "ma_log = index_log.rolling(window=11).mean()\n",
    "std_log = index_log.rolling(window=12).std()"
   ]
  },
  {
   "cell_type": "code",
   "execution_count": 21,
   "metadata": {
    "execution": {
     "iopub.execute_input": "2021-05-28T07:04:35.850053Z",
     "iopub.status.busy": "2021-05-28T07:04:35.848870Z",
     "iopub.status.idle": "2021-05-28T07:04:35.993826Z",
     "shell.execute_reply": "2021-05-28T07:04:35.994464Z",
     "shell.execute_reply.started": "2021-05-28T07:02:36.141898Z"
    },
    "papermill": {
     "duration": 0.212026,
     "end_time": "2021-05-28T07:04:35.994617",
     "exception": false,
     "start_time": "2021-05-28T07:04:35.782591",
     "status": "completed"
    },
    "tags": []
   },
   "outputs": [
    {
     "data": {
      "text/plain": [
       "[<matplotlib.lines.Line2D at 0x7f37e83a8990>]"
      ]
     },
     "execution_count": 21,
     "metadata": {},
     "output_type": "execute_result"
    },
    {
     "data": {
      "image/png": "[encoded data removed]",
      "text/plain": [
       "<Figure size 432x288 with 1 Axes>"
      ]
     },
     "metadata": {
      "needs_background": "light"
     },
     "output_type": "display_data"
    }
   ],
   "source": [
    "plt.title(\"Logarithmic Values vs MA vs Std\")\n",
    "plt.plot(index_log)\n",
    "plt.plot(ma_log)\n",
    "plt.plot(std_log)"
   ]
  },
  {
   "cell_type": "markdown",
   "metadata": {
    "papermill": {
     "duration": 0.047521,
     "end_time": "2021-05-28T07:04:36.090060",
     "exception": false,
     "start_time": "2021-05-28T07:04:36.042539",
     "status": "completed"
    },
    "tags": []
   },
   "source": [
    "This seems to be sligtly better than the precious case. So hand on there guys. We're getting close"
   ]
  },
  {
   "cell_type": "code",
   "execution_count": 22,
   "metadata": {
    "execution": {
     "iopub.execute_input": "2021-05-28T07:04:36.190298Z",
     "iopub.status.busy": "2021-05-28T07:04:36.189163Z",
     "iopub.status.idle": "2021-05-28T07:04:36.221216Z",
     "shell.execute_reply": "2021-05-28T07:04:36.219551Z",
     "shell.execute_reply.started": "2021-05-28T07:02:39.970572Z"
    },
    "papermill": {
     "duration": 0.083299,
     "end_time": "2021-05-28T07:04:36.221361",
     "exception": false,
     "start_time": "2021-05-28T07:04:36.138062",
     "status": "completed"
    },
    "tags": []
   },
   "outputs": [],
   "source": [
    "index_new = index_log - ma_log\n",
    "index_new.dropna(inplace=True)"
   ]
  },
  {
   "cell_type": "code",
   "execution_count": 23,
   "metadata": {
    "execution": {
     "iopub.execute_input": "2021-05-28T07:04:36.317407Z",
     "iopub.status.busy": "2021-05-28T07:04:36.316487Z",
     "iopub.status.idle": "2021-05-28T07:04:36.319453Z",
     "shell.execute_reply": "2021-05-28T07:04:36.318883Z",
     "shell.execute_reply.started": "2021-05-28T07:02:40.936977Z"
    },
    "papermill": {
     "duration": 0.05468,
     "end_time": "2021-05-28T07:04:36.319574",
     "exception": false,
     "start_time": "2021-05-28T07:04:36.264894",
     "status": "completed"
    },
    "tags": []
   },
   "outputs": [],
   "source": [
    "ma_new = index_new.rolling(window=11).mean()\n",
    "std_new = index_new.rolling(window=12).std()"
   ]
  },
  {
   "cell_type": "code",
   "execution_count": 24,
   "metadata": {
    "execution": {
     "iopub.execute_input": "2021-05-28T07:04:36.420079Z",
     "iopub.status.busy": "2021-05-28T07:04:36.418961Z",
     "iopub.status.idle": "2021-05-28T07:04:36.579489Z",
     "shell.execute_reply": "2021-05-28T07:04:36.578923Z",
     "shell.execute_reply.started": "2021-05-28T07:02:41.088220Z"
    },
    "papermill": {
     "duration": 0.211709,
     "end_time": "2021-05-28T07:04:36.579599",
     "exception": false,
     "start_time": "2021-05-28T07:04:36.367890",
     "status": "completed"
    },
    "tags": []
   },
   "outputs": [
    {
     "data": {
      "text/plain": [
       "[<matplotlib.lines.Line2D at 0x7f37e8295f50>]"
      ]
     },
     "execution_count": 24,
     "metadata": {},
     "output_type": "execute_result"
    },
    {
     "data": {
      "image/png": "[encoded data removed]",
      "text/plain": [
       "<Figure size 432x288 with 1 Axes>"
      ]
     },
     "metadata": {
      "needs_background": "light"
     },
     "output_type": "display_data"
    }
   ],
   "source": [
    "plt.title(\"New Index Values vs MA vs Std\")\n",
    "plt.plot(index_new)\n",
    "plt.plot(ma_new)\n",
    "plt.plot(std_new)"
   ]
  },
  {
   "cell_type": "code",
   "execution_count": 25,
   "metadata": {
    "execution": {
     "iopub.execute_input": "2021-05-28T07:04:36.675620Z",
     "iopub.status.busy": "2021-05-28T07:04:36.674543Z",
     "iopub.status.idle": "2021-05-28T07:04:36.688934Z",
     "shell.execute_reply": "2021-05-28T07:04:36.689562Z",
     "shell.execute_reply.started": "2021-05-28T07:02:41.243210Z"
    },
    "papermill": {
     "duration": 0.065365,
     "end_time": "2021-05-28T07:04:36.689711",
     "exception": false,
     "start_time": "2021-05-28T07:04:36.624346",
     "status": "completed"
    },
    "tags": []
   },
   "outputs": [
    {
     "data": {
      "text/plain": [
       "(-3.214139634595369,\n",
       " 0.019180672353057808,\n",
       " 13,\n",
       " 120,\n",
       " {'1%': -3.486055829282407,\n",
       "  '5%': -2.8859430324074076,\n",
       "  '10%': -2.5797850694444446},\n",
       " -444.9677956369542)"
      ]
     },
     "execution_count": 25,
     "metadata": {},
     "output_type": "execute_result"
    }
   ],
   "source": [
    "df_test_new = adfuller(index_new['Passengers'],autolag='AIC')\n",
    "df_test_new"
   ]
  },
  {
   "cell_type": "markdown",
   "metadata": {
    "papermill": {
     "duration": 0.045082,
     "end_time": "2021-05-28T07:04:36.783009",
     "exception": false,
     "start_time": "2021-05-28T07:04:36.737927",
     "status": "completed"
    },
    "tags": []
   },
   "source": [
    "After concluding the results from ADFC TEST, p-value has reduced from 0.99 to 0.019 AND critical values at 1%,5%,10% confidence intervals are pretty close to the Test Statistic. Thus,we can say that our given series is stationary."
   ]
  },
  {
   "cell_type": "markdown",
   "metadata": {
    "papermill": {
     "duration": 0.044794,
     "end_time": "2021-05-28T07:04:36.874569",
     "exception": false,
     "start_time": "2021-05-28T07:04:36.829775",
     "status": "completed"
    },
    "tags": []
   },
   "source": [
    "# ARIMA MODEL CREATION"
   ]
  },
  {
   "cell_type": "code",
   "execution_count": 26,
   "metadata": {
    "execution": {
     "iopub.execute_input": "2021-05-28T07:04:36.969136Z",
     "iopub.status.busy": "2021-05-28T07:04:36.968031Z",
     "iopub.status.idle": "2021-05-28T07:04:36.972713Z",
     "shell.execute_reply": "2021-05-28T07:04:36.973318Z",
     "shell.execute_reply.started": "2021-05-28T07:02:42.573562Z"
    },
    "papermill": {
     "duration": 0.053913,
     "end_time": "2021-05-28T07:04:36.973465",
     "exception": false,
     "start_time": "2021-05-28T07:04:36.919552",
     "status": "completed"
    },
    "tags": []
   },
   "outputs": [],
   "source": [
    "from statsmodels.tsa.arima_model import ARIMA"
   ]
  },
  {
   "cell_type": "code",
   "execution_count": 27,
   "metadata": {
    "execution": {
     "iopub.execute_input": "2021-05-28T07:04:37.068470Z",
     "iopub.status.busy": "2021-05-28T07:04:37.067451Z",
     "iopub.status.idle": "2021-05-28T07:04:37.607719Z",
     "shell.execute_reply": "2021-05-28T07:04:37.607182Z",
     "shell.execute_reply.started": "2021-05-28T07:02:42.706126Z"
    },
    "papermill": {
     "duration": 0.589162,
     "end_time": "2021-05-28T07:04:37.607852",
     "exception": false,
     "start_time": "2021-05-28T07:04:37.018690",
     "status": "completed"
    },
    "tags": []
   },
   "outputs": [
    {
     "name": "stderr",
     "output_type": "stream",
     "text": [
      "/opt/conda/lib/python3.7/site-packages/statsmodels/tsa/base/tsa_model.py:162: ValueWarning: No frequency information was provided, so inferred frequency MS will be used.\n",
      "  % freq, ValueWarning)\n",
      "/opt/conda/lib/python3.7/site-packages/statsmodels/tsa/base/tsa_model.py:162: ValueWarning: No frequency information was provided, so inferred frequency MS will be used.\n",
      "  % freq, ValueWarning)\n"
     ]
    }
   ],
   "source": [
    "model = ARIMA(index_log , order = (2,1,2))\n",
    "results_ARIMA = model.fit(disp=-1)"
   ]
  },
  {
   "cell_type": "code",
   "execution_count": 28,
   "metadata": {
    "execution": {
     "iopub.execute_input": "2021-05-28T07:04:37.707801Z",
     "iopub.status.busy": "2021-05-28T07:04:37.704168Z",
     "iopub.status.idle": "2021-05-28T07:04:37.711005Z",
     "shell.execute_reply": "2021-05-28T07:04:37.711650Z",
     "shell.execute_reply.started": "2021-05-28T07:02:43.296491Z"
    },
    "papermill": {
     "duration": 0.058499,
     "end_time": "2021-05-28T07:04:37.711847",
     "exception": false,
     "start_time": "2021-05-28T07:04:37.653348",
     "status": "completed"
    },
    "tags": []
   },
   "outputs": [
    {
     "data": {
      "text/plain": [
       "Month\n",
       "1949-02-01    0.009580\n",
       "1949-03-01    0.017491\n",
       "1949-04-01    0.027670\n",
       "1949-05-01   -0.004521\n",
       "1949-06-01   -0.023889\n",
       "dtype: float64"
      ]
     },
     "execution_count": 28,
     "metadata": {},
     "output_type": "execute_result"
    }
   ],
   "source": [
    "predictions = pd.Series(results_ARIMA.fittedvalues, copy=True)\n",
    "predictions.head()"
   ]
  },
  {
   "cell_type": "markdown",
   "metadata": {
    "papermill": {
     "duration": 0.045699,
     "end_time": "2021-05-28T07:04:37.808517",
     "exception": false,
     "start_time": "2021-05-28T07:04:37.762818",
     "status": "completed"
    },
    "tags": []
   },
   "source": [
    "Link for part 2 https://www.kaggle.com/harshsinha1234/time-series-arima-model-simplified"
   ]
  },
  {
   "cell_type": "code",
   "execution_count": 29,
   "metadata": {
    "execution": {
     "iopub.execute_input": "2021-05-28T07:04:37.904265Z",
     "iopub.status.busy": "2021-05-28T07:04:37.903594Z",
     "iopub.status.idle": "2021-05-28T07:04:38.154969Z",
     "shell.execute_reply": "2021-05-28T07:04:38.155483Z",
     "shell.execute_reply.started": "2021-05-28T07:03:36.864703Z"
    },
    "papermill": {
     "duration": 0.300251,
     "end_time": "2021-05-28T07:04:38.155653",
     "exception": false,
     "start_time": "2021-05-28T07:04:37.855402",
     "status": "completed"
    },
    "tags": []
   },
   "outputs": [
    {
     "name": "stderr",
     "output_type": "stream",
     "text": [
      "/opt/conda/lib/python3.7/site-packages/statsmodels/tsa/base/tsa_model.py:162: ValueWarning: No frequency information was provided, so inferred frequency MS will be used.\n",
      "  % freq, ValueWarning)\n",
      "/opt/conda/lib/python3.7/site-packages/statsmodels/tsa/base/tsa_model.py:162: ValueWarning: No frequency information was provided, so inferred frequency MS will be used.\n",
      "  % freq, ValueWarning)\n",
      "/opt/conda/lib/python3.7/site-packages/statsmodels/tsa/base/tsa_model.py:162: ValueWarning: No frequency information was provided, so inferred frequency MS will be used.\n",
      "  % freq, ValueWarning)\n",
      "/opt/conda/lib/python3.7/site-packages/statsmodels/tsa/base/tsa_model.py:162: ValueWarning: No frequency information was provided, so inferred frequency MS will be used.\n",
      "  % freq, ValueWarning)\n"
     ]
    }
   ],
   "source": [
    "model2 = ARIMA(index_log , order = (2,1,0))\n",
    "results_ARIMA2 = model2.fit(disp=-1)\n",
    "model3 = ARIMA(index_log , order = (0,1,2))\n",
    "results_ARIMA3 = model3.fit(disp=-1)"
   ]
  },
  {
   "cell_type": "code",
   "execution_count": 30,
   "metadata": {
    "execution": {
     "iopub.execute_input": "2021-05-28T07:04:38.254672Z",
     "iopub.status.busy": "2021-05-28T07:04:38.253544Z",
     "iopub.status.idle": "2021-05-28T07:04:38.261068Z",
     "shell.execute_reply": "2021-05-28T07:04:38.261684Z",
     "shell.execute_reply.started": "2021-05-28T07:03:55.917416Z"
    },
    "papermill": {
     "duration": 0.059511,
     "end_time": "2021-05-28T07:04:38.261845",
     "exception": false,
     "start_time": "2021-05-28T07:04:38.202334",
     "status": "completed"
    },
    "tags": []
   },
   "outputs": [
    {
     "data": {
      "text/plain": [
       "Month\n",
       "1949-02-01    0.009600\n",
       "1949-03-01    0.018167\n",
       "1949-04-01    0.026435\n",
       "1949-05-01   -0.015768\n",
       "1949-06-01   -0.002144\n",
       "dtype: float64"
      ]
     },
     "execution_count": 30,
     "metadata": {},
     "output_type": "execute_result"
    }
   ],
   "source": [
    "predictions2 = pd.Series(results_ARIMA2.fittedvalues, copy=True)\n",
    "predictions2.head()"
   ]
  },
  {
   "cell_type": "code",
   "execution_count": 31,
   "metadata": {
    "execution": {
     "iopub.execute_input": "2021-05-28T07:04:38.364646Z",
     "iopub.status.busy": "2021-05-28T07:04:38.364019Z",
     "iopub.status.idle": "2021-05-28T07:04:38.372502Z",
     "shell.execute_reply": "2021-05-28T07:04:38.373125Z",
     "shell.execute_reply.started": "2021-05-28T07:04:05.372415Z"
    },
    "papermill": {
     "duration": 0.059172,
     "end_time": "2021-05-28T07:04:38.373273",
     "exception": false,
     "start_time": "2021-05-28T07:04:38.314101",
     "status": "completed"
    },
    "tags": []
   },
   "outputs": [
    {
     "data": {
      "text/plain": [
       "Month\n",
       "1949-02-01    0.009631\n",
       "1949-03-01    0.014526\n",
       "1949-04-01    0.011819\n",
       "1949-05-01   -0.025744\n",
       "1949-06-01    0.013877\n",
       "dtype: float64"
      ]
     },
     "execution_count": 31,
     "metadata": {},
     "output_type": "execute_result"
    }
   ],
   "source": [
    "predictions3 = pd.Series(results_ARIMA3.fittedvalues, copy=True)\n",
    "predictions3.head()"
   ]
  },
  {
   "cell_type": "code",
   "execution_count": null,
   "metadata": {
    "papermill": {
     "duration": 0.046498,
     "end_time": "2021-05-28T07:04:38.466574",
     "exception": false,
     "start_time": "2021-05-28T07:04:38.420076",
     "status": "completed"
    },
    "tags": []
   },
   "outputs": [],
   "source": []
  }
 ],
 "metadata": {
  "kernelspec": {
   "display_name": "Python 3",
   "language": "python",
   "name": "python3"
  },
  "language_info": {
   "codemirror_mode": {
    "name": "ipython",
    "version": 3
   },
   "file_extension": ".py",
   "mimetype": "text/x-python",
   "name": "python",
   "nbconvert_exporter": "python",
   "pygments_lexer": "ipython3",
   "version": "3.7.6"
  },
  "papermill": {
   "duration": 12.879601,
   "end_time": "2021-05-28T07:04:38.620731",
   "environment_variables": {},
   "exception": null,
   "input_path": "__notebook__.ipynb",
   "output_path": "__notebook__.ipynb",
   "parameters": {},
   "start_time": "2021-05-28T07:04:25.741130",
   "version": "2.1.0"
  }
 },
 "nbformat": 4,
 "nbformat_minor": 4
}
